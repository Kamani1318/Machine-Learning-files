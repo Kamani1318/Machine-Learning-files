{
 "cells": [
  {
   "cell_type": "code",
   "execution_count": 187,
   "id": "60a88045",
   "metadata": {},
   "outputs": [],
   "source": [
    "import numpy as np\n",
    "import matplotlib.pyplot as plt\n",
    "import pandas as pd\n",
    "import sklearn"
   ]
  },
  {
   "cell_type": "markdown",
   "id": "070a8239",
   "metadata": {},
   "source": [
    "# To use KNeighbours Classifier to classify the Purchased column appropriately"
   ]
  },
  {
   "cell_type": "code",
   "execution_count": 189,
   "id": "cd5f0197",
   "metadata": {},
   "outputs": [],
   "source": [
    "df = pd.read_csv('Social_Network_Ads.csv')"
   ]
  },
  {
   "cell_type": "code",
   "execution_count": 190,
   "id": "3a588c27",
   "metadata": {},
   "outputs": [
    {
     "data": {
      "text/html": [
       "<div>\n",
       "<style scoped>\n",
       "    .dataframe tbody tr th:only-of-type {\n",
       "        vertical-align: middle;\n",
       "    }\n",
       "\n",
       "    .dataframe tbody tr th {\n",
       "        vertical-align: top;\n",
       "    }\n",
       "\n",
       "    .dataframe thead th {\n",
       "        text-align: right;\n",
       "    }\n",
       "</style>\n",
       "<table border=\"1\" class=\"dataframe\">\n",
       "  <thead>\n",
       "    <tr style=\"text-align: right;\">\n",
       "      <th></th>\n",
       "      <th>User ID</th>\n",
       "      <th>Gender</th>\n",
       "      <th>Age</th>\n",
       "      <th>EstimatedSalary</th>\n",
       "      <th>Purchased</th>\n",
       "    </tr>\n",
       "  </thead>\n",
       "  <tbody>\n",
       "    <tr>\n",
       "      <th>0</th>\n",
       "      <td>15624510</td>\n",
       "      <td>Male</td>\n",
       "      <td>19</td>\n",
       "      <td>19000</td>\n",
       "      <td>0</td>\n",
       "    </tr>\n",
       "    <tr>\n",
       "      <th>1</th>\n",
       "      <td>15810944</td>\n",
       "      <td>Male</td>\n",
       "      <td>35</td>\n",
       "      <td>20000</td>\n",
       "      <td>0</td>\n",
       "    </tr>\n",
       "    <tr>\n",
       "      <th>2</th>\n",
       "      <td>15668575</td>\n",
       "      <td>Female</td>\n",
       "      <td>26</td>\n",
       "      <td>43000</td>\n",
       "      <td>0</td>\n",
       "    </tr>\n",
       "    <tr>\n",
       "      <th>3</th>\n",
       "      <td>15603246</td>\n",
       "      <td>Female</td>\n",
       "      <td>27</td>\n",
       "      <td>57000</td>\n",
       "      <td>0</td>\n",
       "    </tr>\n",
       "    <tr>\n",
       "      <th>4</th>\n",
       "      <td>15804002</td>\n",
       "      <td>Male</td>\n",
       "      <td>19</td>\n",
       "      <td>76000</td>\n",
       "      <td>0</td>\n",
       "    </tr>\n",
       "  </tbody>\n",
       "</table>\n",
       "</div>"
      ],
      "text/plain": [
       "    User ID  Gender  Age  EstimatedSalary  Purchased\n",
       "0  15624510    Male   19            19000          0\n",
       "1  15810944    Male   35            20000          0\n",
       "2  15668575  Female   26            43000          0\n",
       "3  15603246  Female   27            57000          0\n",
       "4  15804002    Male   19            76000          0"
      ]
     },
     "execution_count": 190,
     "metadata": {},
     "output_type": "execute_result"
    }
   ],
   "source": [
    "df.head()"
   ]
  },
  {
   "cell_type": "code",
   "execution_count": 191,
   "id": "efafaeae",
   "metadata": {},
   "outputs": [
    {
     "name": "stdout",
     "output_type": "stream",
     "text": [
      "Metadata             User ID         Age  EstimatedSalary   Purchased\n",
      "count  4.000000e+02  400.000000       400.000000  400.000000\n",
      "mean   1.569154e+07   37.655000     69742.500000    0.357500\n",
      "std    7.165832e+04   10.482877     34096.960282    0.479864\n",
      "min    1.556669e+07   18.000000     15000.000000    0.000000\n",
      "25%    1.562676e+07   29.750000     43000.000000    0.000000\n",
      "50%    1.569434e+07   37.000000     70000.000000    0.000000\n",
      "75%    1.575036e+07   46.000000     88000.000000    1.000000\n",
      "max    1.581524e+07   60.000000    150000.000000    1.000000\n",
      "Shape of dataset (400, 5)\n"
     ]
    }
   ],
   "source": [
    "# MetaData\n",
    "print('Metadata',df.describe())\n",
    "print('Shape of dataset',df.shape)"
   ]
  },
  {
   "cell_type": "code",
   "execution_count": 192,
   "id": "9941dec5",
   "metadata": {},
   "outputs": [],
   "source": [
    "x = df.iloc[:,1:4].values\n",
    "y = df.iloc[:,4].values"
   ]
  },
  {
   "cell_type": "code",
   "execution_count": 193,
   "id": "630354b7",
   "metadata": {},
   "outputs": [],
   "source": [
    "from sklearn.preprocessing import LabelEncoder\n",
    "le = LabelEncoder()\n",
    "x[:,0] = le.fit_transform(x[:,0])"
   ]
  },
  {
   "cell_type": "code",
   "execution_count": 194,
   "id": "2502c112",
   "metadata": {},
   "outputs": [],
   "source": [
    "from sklearn.model_selection import train_test_split\n",
    "x_train,x_test,y_train,y_test = train_test_split(x,y,test_size = 0.2, random_state = 42)"
   ]
  },
  {
   "cell_type": "code",
   "execution_count": 195,
   "id": "f7703585",
   "metadata": {},
   "outputs": [],
   "source": [
    "from sklearn.preprocessing import MinMaxScaler\n",
    "mm = MinMaxScaler()\n",
    "x_train = mm.fit_transform(x_train)\n",
    "x_test = mm.fit_transform(x_test)"
   ]
  },
  {
   "cell_type": "markdown",
   "id": "0a24d226",
   "metadata": {},
   "source": [
    "# KNeighborsClassifer"
   ]
  },
  {
   "cell_type": "code",
   "execution_count": 196,
   "id": "6494e938",
   "metadata": {},
   "outputs": [
    {
     "data": {
      "text/plain": [
       "KNeighborsClassifier()"
      ]
     },
     "execution_count": 196,
     "metadata": {},
     "output_type": "execute_result"
    }
   ],
   "source": [
    "from sklearn.neighbors import KNeighborsClassifier\n",
    "classifier = KNeighborsClassifier(n_neighbors = 5, metric = 'minkowski', p = 2)\n",
    "classifier.fit(x_train, y_train)"
   ]
  },
  {
   "cell_type": "code",
   "execution_count": 197,
   "id": "f545a658",
   "metadata": {},
   "outputs": [
    {
     "name": "stderr",
     "output_type": "stream",
     "text": [
      "/Users/aryankamani/opt/anaconda3/lib/python3.9/site-packages/sklearn/neighbors/_classification.py:228: FutureWarning: Unlike other reduction functions (e.g. `skew`, `kurtosis`), the default behavior of `mode` typically preserves the axis it acts along. In SciPy 1.11.0, this behavior will change: the default value of `keepdims` will become False, the `axis` over which the statistic is taken will be eliminated, and the value None will no longer be accepted. Set `keepdims` to True or False to avoid this warning.\n",
      "  mode, _ = stats.mode(_y[neigh_ind, k], axis=1)\n"
     ]
    }
   ],
   "source": [
    "y_test_pred = classifier.predict(x_test)"
   ]
  },
  {
   "cell_type": "code",
   "execution_count": 198,
   "id": "3fa2fbcb",
   "metadata": {},
   "outputs": [
    {
     "name": "stderr",
     "output_type": "stream",
     "text": [
      "/Users/aryankamani/opt/anaconda3/lib/python3.9/site-packages/sklearn/neighbors/_classification.py:228: FutureWarning: Unlike other reduction functions (e.g. `skew`, `kurtosis`), the default behavior of `mode` typically preserves the axis it acts along. In SciPy 1.11.0, this behavior will change: the default value of `keepdims` will become False, the `axis` over which the statistic is taken will be eliminated, and the value None will no longer be accepted. Set `keepdims` to True or False to avoid this warning.\n",
      "  mode, _ = stats.mode(_y[neigh_ind, k], axis=1)\n"
     ]
    }
   ],
   "source": [
    "y_train_pred = classifier.predict(x_train)"
   ]
  },
  {
   "cell_type": "code",
   "execution_count": 199,
   "id": "f026a290",
   "metadata": {},
   "outputs": [
    {
     "name": "stdout",
     "output_type": "stream",
     "text": [
      "Training accuracy:  0.9125\n",
      "Testing accuracy:  0.925\n"
     ]
    }
   ],
   "source": [
    "from sklearn.metrics import confusion_matrix,accuracy_score,classification_report\n",
    "cm = confusion_matrix(y_test, y_test_pred)\n",
    "actrain = accuracy_score(y_train,y_train_pred)\n",
    "actest = accuracy_score(y_test,y_test_pred)\n",
    "print('Training accuracy: ',actrain)\n",
    "print('Testing accuracy: ',actest)"
   ]
  },
  {
   "cell_type": "code",
   "execution_count": 143,
   "id": "c753b80e",
   "metadata": {},
   "outputs": [
    {
     "data": {
      "image/png": "[encoded data removed]",
      "text/plain": [
       "<Figure size 640x480 with 2 Axes>"
      ]
     },
     "metadata": {},
     "output_type": "display_data"
    }
   ],
   "source": [
    "from sklearn import metrics\n",
    "cm_display = metrics.ConfusionMatrixDisplay(confusion_matrix = cm, display_labels = [False, True])\n",
    "cm_display.plot()\n",
    "plt.title('Confusion Matrix')\n",
    "plt.show()"
   ]
  },
  {
   "cell_type": "code",
   "execution_count": 144,
   "id": "7eebdaa5",
   "metadata": {},
   "outputs": [
    {
     "name": "stdout",
     "output_type": "stream",
     "text": [
      "Train Accuracy of KNN Classifier Model is :  0.9125\n",
      "Test Accuracy of KNN Classifier Model is :  0.925\n"
     ]
    }
   ],
   "source": [
    "print('Train Accuracy of KNN Classifier Model is : ',actrain)\n",
    "print('Test Accuracy of KNN Classifier Model is : ',actest)"
   ]
  },
  {
   "cell_type": "code",
   "execution_count": 145,
   "id": "15b2557f",
   "metadata": {},
   "outputs": [
    {
     "data": {
      "text/html": [
       "<div>\n",
       "<style scoped>\n",
       "    .dataframe tbody tr th:only-of-type {\n",
       "        vertical-align: middle;\n",
       "    }\n",
       "\n",
       "    .dataframe tbody tr th {\n",
       "        vertical-align: top;\n",
       "    }\n",
       "\n",
       "    .dataframe thead th {\n",
       "        text-align: right;\n",
       "    }\n",
       "</style>\n",
       "<table border=\"1\" class=\"dataframe\">\n",
       "  <thead>\n",
       "    <tr style=\"text-align: right;\">\n",
       "      <th></th>\n",
       "      <th>song_name</th>\n",
       "      <th>song_popularity</th>\n",
       "      <th>song_duration_ms</th>\n",
       "      <th>acousticness</th>\n",
       "      <th>danceability</th>\n",
       "      <th>energy</th>\n",
       "      <th>instrumentalness</th>\n",
       "      <th>key</th>\n",
       "      <th>liveness</th>\n",
       "      <th>loudness</th>\n",
       "      <th>audio_mode</th>\n",
       "      <th>speechiness</th>\n",
       "      <th>tempo</th>\n",
       "      <th>time_signature</th>\n",
       "      <th>audio_valence</th>\n",
       "    </tr>\n",
       "  </thead>\n",
       "  <tbody>\n",
       "    <tr>\n",
       "      <th>0</th>\n",
       "      <td>Boulevard of Broken Dreams</td>\n",
       "      <td>73</td>\n",
       "      <td>262333</td>\n",
       "      <td>0.005520</td>\n",
       "      <td>0.496</td>\n",
       "      <td>0.682</td>\n",
       "      <td>0.000029</td>\n",
       "      <td>8</td>\n",
       "      <td>0.0589</td>\n",
       "      <td>-4.095</td>\n",
       "      <td>1</td>\n",
       "      <td>0.0294</td>\n",
       "      <td>167.060</td>\n",
       "      <td>4</td>\n",
       "      <td>0.474</td>\n",
       "    </tr>\n",
       "    <tr>\n",
       "      <th>1</th>\n",
       "      <td>In The End</td>\n",
       "      <td>66</td>\n",
       "      <td>216933</td>\n",
       "      <td>0.010300</td>\n",
       "      <td>0.542</td>\n",
       "      <td>0.853</td>\n",
       "      <td>0.000000</td>\n",
       "      <td>3</td>\n",
       "      <td>0.1080</td>\n",
       "      <td>-6.407</td>\n",
       "      <td>0</td>\n",
       "      <td>0.0498</td>\n",
       "      <td>105.256</td>\n",
       "      <td>4</td>\n",
       "      <td>0.370</td>\n",
       "    </tr>\n",
       "    <tr>\n",
       "      <th>2</th>\n",
       "      <td>Seven Nation Army</td>\n",
       "      <td>76</td>\n",
       "      <td>231733</td>\n",
       "      <td>0.008170</td>\n",
       "      <td>0.737</td>\n",
       "      <td>0.463</td>\n",
       "      <td>0.447000</td>\n",
       "      <td>0</td>\n",
       "      <td>0.2550</td>\n",
       "      <td>-7.828</td>\n",
       "      <td>1</td>\n",
       "      <td>0.0792</td>\n",
       "      <td>123.881</td>\n",
       "      <td>4</td>\n",
       "      <td>0.324</td>\n",
       "    </tr>\n",
       "    <tr>\n",
       "      <th>3</th>\n",
       "      <td>By The Way</td>\n",
       "      <td>74</td>\n",
       "      <td>216933</td>\n",
       "      <td>0.026400</td>\n",
       "      <td>0.451</td>\n",
       "      <td>0.970</td>\n",
       "      <td>0.003550</td>\n",
       "      <td>0</td>\n",
       "      <td>0.1020</td>\n",
       "      <td>-4.938</td>\n",
       "      <td>1</td>\n",
       "      <td>0.1070</td>\n",
       "      <td>122.444</td>\n",
       "      <td>4</td>\n",
       "      <td>0.198</td>\n",
       "    </tr>\n",
       "    <tr>\n",
       "      <th>4</th>\n",
       "      <td>How You Remind Me</td>\n",
       "      <td>56</td>\n",
       "      <td>223826</td>\n",
       "      <td>0.000954</td>\n",
       "      <td>0.447</td>\n",
       "      <td>0.766</td>\n",
       "      <td>0.000000</td>\n",
       "      <td>10</td>\n",
       "      <td>0.1130</td>\n",
       "      <td>-5.065</td>\n",
       "      <td>1</td>\n",
       "      <td>0.0313</td>\n",
       "      <td>172.011</td>\n",
       "      <td>4</td>\n",
       "      <td>0.574</td>\n",
       "    </tr>\n",
       "  </tbody>\n",
       "</table>\n",
       "</div>"
      ],
      "text/plain": [
       "                    song_name  song_popularity  song_duration_ms  \\\n",
       "0  Boulevard of Broken Dreams               73            262333   \n",
       "1                  In The End               66            216933   \n",
       "2           Seven Nation Army               76            231733   \n",
       "3                  By The Way               74            216933   \n",
       "4           How You Remind Me               56            223826   \n",
       "\n",
       "   acousticness  danceability  energy  instrumentalness  key  liveness  \\\n",
       "0      0.005520         0.496   0.682          0.000029    8    0.0589   \n",
       "1      0.010300         0.542   0.853          0.000000    3    0.1080   \n",
       "2      0.008170         0.737   0.463          0.447000    0    0.2550   \n",
       "3      0.026400         0.451   0.970          0.003550    0    0.1020   \n",
       "4      0.000954         0.447   0.766          0.000000   10    0.1130   \n",
       "\n",
       "   loudness  audio_mode  speechiness    tempo  time_signature  audio_valence  \n",
       "0    -4.095           1       0.0294  167.060               4          0.474  \n",
       "1    -6.407           0       0.0498  105.256               4          0.370  \n",
       "2    -7.828           1       0.0792  123.881               4          0.324  \n",
       "3    -4.938           1       0.1070  122.444               4          0.198  \n",
       "4    -5.065           1       0.0313  172.011               4          0.574  "
      ]
     },
     "execution_count": 145,
     "metadata": {},
     "output_type": "execute_result"
    }
   ],
   "source": [
    "# KNN Regression\n",
    "song = pd.read_csv('Song_data.csv')\n",
    "song.head()"
   ]
  },
  {
   "cell_type": "code",
   "execution_count": 146,
   "id": "d51c0866",
   "metadata": {},
   "outputs": [
    {
     "data": {
      "text/plain": [
       "song_name           0\n",
       "song_popularity     0\n",
       "song_duration_ms    0\n",
       "acousticness        0\n",
       "danceability        0\n",
       "energy              0\n",
       "instrumentalness    0\n",
       "key                 0\n",
       "liveness            0\n",
       "loudness            0\n",
       "audio_mode          0\n",
       "speechiness         0\n",
       "tempo               0\n",
       "time_signature      0\n",
       "audio_valence       0\n",
       "dtype: int64"
      ]
     },
     "execution_count": 146,
     "metadata": {},
     "output_type": "execute_result"
    }
   ],
   "source": [
    "song.isnull().sum()"
   ]
  },
  {
   "cell_type": "code",
   "execution_count": 147,
   "id": "2a71309f",
   "metadata": {},
   "outputs": [
    {
     "name": "stdout",
     "output_type": "stream",
     "text": [
      "Metadata:         song_popularity  song_duration_ms  acousticness  danceability  \\\n",
      "count     18835.000000      1.883500e+04  18835.000000  18835.000000   \n",
      "mean         52.991877      2.182116e+05      0.258539      0.633348   \n",
      "std          21.905654      5.988754e+04      0.288719      0.156723   \n",
      "min           0.000000      1.200000e+04      0.000001      0.000000   \n",
      "25%          40.000000      1.843395e+05      0.024100      0.533000   \n",
      "50%          56.000000      2.113060e+05      0.132000      0.645000   \n",
      "75%          69.000000      2.428440e+05      0.424000      0.748000   \n",
      "max         100.000000      1.799346e+06      0.996000      0.987000   \n",
      "\n",
      "             energy  instrumentalness           key      liveness  \\\n",
      "count  18835.000000      18835.000000  18835.000000  18835.000000   \n",
      "mean       0.644995          0.078008      5.289196      0.179650   \n",
      "std        0.214101          0.221591      3.614595      0.143984   \n",
      "min        0.001070          0.000000      0.000000      0.010900   \n",
      "25%        0.510000          0.000000      2.000000      0.092900   \n",
      "50%        0.674000          0.000011      5.000000      0.122000   \n",
      "75%        0.815000          0.002570      8.000000      0.221000   \n",
      "max        0.999000          0.997000     11.000000      0.986000   \n",
      "\n",
      "           loudness    audio_mode   speechiness         tempo  time_signature  \\\n",
      "count  18835.000000  18835.000000  18835.000000  18835.000000    18835.000000   \n",
      "mean      -7.447435      0.628139      0.102099    121.073154        3.959119   \n",
      "std        3.827831      0.483314      0.104378     28.714456        0.298533   \n",
      "min      -38.768000      0.000000      0.000000      0.000000        0.000000   \n",
      "25%       -9.044000      0.000000      0.037800     98.368000        4.000000   \n",
      "50%       -6.555000      1.000000      0.055500    120.013000        4.000000   \n",
      "75%       -4.908000      1.000000      0.119000    139.931000        4.000000   \n",
      "max        1.585000      1.000000      0.941000    242.318000        5.000000   \n",
      "\n",
      "       audio_valence  \n",
      "count   18835.000000  \n",
      "mean        0.527967  \n",
      "std         0.244632  \n",
      "min         0.000000  \n",
      "25%         0.335000  \n",
      "50%         0.527000  \n",
      "75%         0.725000  \n",
      "max         0.984000  \n"
     ]
    }
   ],
   "source": [
    "print('Metadata: ',song.describe())"
   ]
  },
  {
   "cell_type": "code",
   "execution_count": 148,
   "id": "e2a00183",
   "metadata": {},
   "outputs": [
    {
     "data": {
      "image/png": "[encoded data removed]",
      "text/plain": [
       "<Figure size 640x480 with 1 Axes>"
      ]
     },
     "metadata": {},
     "output_type": "display_data"
    }
   ],
   "source": [
    "plt.bar(song['audio_mode'], song['song_popularity'], color = 'green')\n",
    "\n",
    "# Add labels and title\n",
    "plt.xlabel('Categories')\n",
    "plt.ylabel('Values')\n",
    "plt.title('Bar Graph for Time Signature vs Song Popularity')\n",
    "\n",
    "# Display the graph\n",
    "plt.show()"
   ]
  },
  {
   "cell_type": "code",
   "execution_count": 149,
   "id": "08da9fd7",
   "metadata": {},
   "outputs": [
    {
     "data": {
      "image/png": "[encoded data removed]",
      "text/plain": [
       "<Figure size 640x480 with 1 Axes>"
      ]
     },
     "metadata": {},
     "output_type": "display_data"
    }
   ],
   "source": [
    "plt.bar(song['time_signature'], song['song_popularity'])\n",
    "\n",
    "# Add labels and title\n",
    "plt.xlabel('Categories')\n",
    "plt.ylabel('Values')\n",
    "plt.title('Bar Graph for Time Signature vs Song Popularity')\n",
    "\n",
    "# Display the graph\n",
    "plt.show()"
   ]
  },
  {
   "cell_type": "code",
   "execution_count": 150,
   "id": "a9ffd881",
   "metadata": {},
   "outputs": [
    {
     "data": {
      "image/png": "[encoded data removed]",
      "text/plain": [
       "<Figure size 1200x500 with 2 Axes>"
      ]
     },
     "metadata": {},
     "output_type": "display_data"
    }
   ],
   "source": [
    "import seaborn as sns\n",
    "corr = song.corr()\n",
    "fig = plt.figure(figsize = (12,5))\n",
    "r = sns.heatmap(corr,cmap ='BuGn')"
   ]
  },
  {
   "cell_type": "code",
   "execution_count": 151,
   "id": "e525b22f",
   "metadata": {},
   "outputs": [],
   "source": [
    "new_song = song.drop(columns = ['energy','loudness'])"
   ]
  },
  {
   "cell_type": "code",
   "execution_count": 152,
   "id": "08b0f665",
   "metadata": {},
   "outputs": [],
   "source": [
    "y = new_song['song_popularity'].values\n",
    "x = new_song.iloc[:,2:].values"
   ]
  },
  {
   "cell_type": "code",
   "execution_count": 153,
   "id": "a510985b",
   "metadata": {},
   "outputs": [],
   "source": [
    "from sklearn.model_selection import train_test_split\n",
    "x_train,x_test,y_train,y_test = train_test_split(x,y,test_size = 0.25, random_state = 42)"
   ]
  },
  {
   "cell_type": "code",
   "execution_count": 154,
   "id": "92610111",
   "metadata": {},
   "outputs": [],
   "source": [
    "from sklearn.preprocessing import MinMaxScaler\n",
    "sc = MinMaxScaler()\n",
    "x_train = sc.fit_transform(x_train)\n",
    "x_test = sc.fit_transform(x_test)"
   ]
  },
  {
   "cell_type": "code",
   "execution_count": 155,
   "id": "892e13d8",
   "metadata": {},
   "outputs": [],
   "source": [
    "from sklearn import neighbors\n",
    "from sklearn.metrics import mean_squared_error "
   ]
  },
  {
   "cell_type": "markdown",
   "id": "3f3cfce7",
   "metadata": {},
   "source": [
    "# KNeighborsRegressor"
   ]
  },
  {
   "cell_type": "code",
   "execution_count": 156,
   "id": "30bebbc7",
   "metadata": {},
   "outputs": [
    {
     "name": "stdout",
     "output_type": "stream",
     "text": [
      "RMSE value for k=  1 is: 24.63789576721313\n",
      "RMSE value for k=  2 is: 22.197591408638722\n",
      "RMSE value for k=  3 is: 21.656771730339752\n",
      "RMSE value for k=  4 is: 21.199967332200956\n",
      "RMSE value for k=  5 is: 21.01511434163755\n",
      "RMSE value for k=  6 is: 21.026888233556683\n",
      "RMSE value for k=  7 is: 20.973431778772657\n",
      "RMSE value for k=  8 is: 20.9146457272955\n",
      "RMSE value for k=  9 is: 20.92436606741322\n"
     ]
    }
   ],
   "source": [
    "rmse_val = [] \n",
    "from sklearn.neighbors import KNeighborsRegressor\n",
    "for i in range(1,10):\n",
    "    model = KNeighborsRegressor(n_neighbors = i)\n",
    "\n",
    "    model.fit(x_train, y_train)  #fit the model\n",
    "    pred=model.predict(x_test) #make prediction on test set\n",
    "    error = np.sqrt(mean_squared_error(y_test,pred)) #calculate rmse\n",
    "    rmse_val.append(error) #store rmse values\n",
    "    print('RMSE value for k= ' , i , 'is:', error)"
   ]
  },
  {
   "cell_type": "code",
   "execution_count": 157,
   "id": "db2cd801",
   "metadata": {},
   "outputs": [
    {
     "data": {
      "text/plain": [
       "<AxesSubplot:>"
      ]
     },
     "execution_count": 157,
     "metadata": {},
     "output_type": "execute_result"
    },
    {
     "data": {
      "image/png": "[encoded data removed]",
      "text/plain": [
       "<Figure size 640x480 with 1 Axes>"
      ]
     },
     "metadata": {},
     "output_type": "display_data"
    }
   ],
   "source": [
    "curve = pd.DataFrame(rmse_val) #elbow curve \n",
    "curve.plot()"
   ]
  },
  {
   "cell_type": "code",
   "execution_count": 159,
   "id": "5dc64baf",
   "metadata": {},
   "outputs": [
    {
     "name": "stdout",
     "output_type": "stream",
     "text": [
      "[-462.6208759  -454.87654976 -457.99691932 -474.18143265 -471.46677285]\n"
     ]
    },
    {
     "data": {
      "image/png": "[encoded data removed]",
      "text/plain": [
       "<Figure size 640x480 with 1 Axes>"
      ]
     },
     "metadata": {},
     "output_type": "display_data"
    }
   ],
   "source": [
    "# Applying K-fold Cross validation\n",
    "from sklearn.model_selection import KFold\n",
    "from sklearn.model_selection import cross_val_score\n",
    "cv = KFold(n_splits=5, random_state=1, shuffle=True)\n",
    "scores = cross_val_score(model, x, y, scoring='neg_mean_squared_error',cv=cv, n_jobs=-1)\n",
    "print(scores)\n",
    "plt.bar(range(len(scores)), scores, color='blue')\n",
    "\n",
    "# Add labels and title\n",
    "plt.xlabel('Model')\n",
    "plt.ylabel('Accuracy Score')\n",
    "plt.title('Accuracy Scores of Different Models')\n",
    "\n",
    "\n",
    "# Show the plot\n",
    "plt.show()"
   ]
  },
  {
   "cell_type": "code",
   "execution_count": 160,
   "id": "9be7e527",
   "metadata": {},
   "outputs": [],
   "source": [
    "knn_model = neighbors.KNeighborsRegressor(n_neighbors = 12)\n",
    "knn_model.fit(x_train, y_train)\n",
    "y_test_pred=knn_model.predict(x_test)"
   ]
  },
  {
   "cell_type": "code",
   "execution_count": 161,
   "id": "a3b54913",
   "metadata": {},
   "outputs": [],
   "source": [
    "n = len(y_test)"
   ]
  },
  {
   "cell_type": "code",
   "execution_count": 162,
   "id": "55e5f409",
   "metadata": {},
   "outputs": [
    {
     "name": "stdout",
     "output_type": "stream",
     "text": [
      "Mean Square Error is :  435.58220517448854\n"
     ]
    }
   ],
   "source": [
    "MSE = (1/n)*np.sum((y_test_pred - y_test)**2)\n",
    "print('Mean Square Error is : ',MSE)"
   ]
  },
  {
   "cell_type": "code",
   "execution_count": 163,
   "id": "02b2816b",
   "metadata": {},
   "outputs": [
    {
     "name": "stdout",
     "output_type": "stream",
     "text": [
      "Root Mean Square Error is :  20.870606248369704\n"
     ]
    }
   ],
   "source": [
    "RMSE = np.sqrt((1/n)*np.sum((y_test_pred - y_test)**2))\n",
    "print('Root Mean Square Error is : ',RMSE)"
   ]
  },
  {
   "cell_type": "code",
   "execution_count": 164,
   "id": "d69924fd",
   "metadata": {},
   "outputs": [
    {
     "data": {
      "text/html": [
       "<div>\n",
       "<style scoped>\n",
       "    .dataframe tbody tr th:only-of-type {\n",
       "        vertical-align: middle;\n",
       "    }\n",
       "\n",
       "    .dataframe tbody tr th {\n",
       "        vertical-align: top;\n",
       "    }\n",
       "\n",
       "    .dataframe thead th {\n",
       "        text-align: right;\n",
       "    }\n",
       "</style>\n",
       "<table border=\"1\" class=\"dataframe\">\n",
       "  <thead>\n",
       "    <tr style=\"text-align: right;\">\n",
       "      <th></th>\n",
       "      <th>True Value</th>\n",
       "      <th>Prediction</th>\n",
       "      <th>Error</th>\n",
       "    </tr>\n",
       "  </thead>\n",
       "  <tbody>\n",
       "    <tr>\n",
       "      <th>0</th>\n",
       "      <td>44</td>\n",
       "      <td>36.833333</td>\n",
       "      <td>7.166667</td>\n",
       "    </tr>\n",
       "    <tr>\n",
       "      <th>1</th>\n",
       "      <td>50</td>\n",
       "      <td>52.000000</td>\n",
       "      <td>-2.000000</td>\n",
       "    </tr>\n",
       "    <tr>\n",
       "      <th>2</th>\n",
       "      <td>69</td>\n",
       "      <td>41.583333</td>\n",
       "      <td>27.416667</td>\n",
       "    </tr>\n",
       "    <tr>\n",
       "      <th>3</th>\n",
       "      <td>65</td>\n",
       "      <td>64.166667</td>\n",
       "      <td>0.833333</td>\n",
       "    </tr>\n",
       "    <tr>\n",
       "      <th>4</th>\n",
       "      <td>59</td>\n",
       "      <td>54.416667</td>\n",
       "      <td>4.583333</td>\n",
       "    </tr>\n",
       "  </tbody>\n",
       "</table>\n",
       "</div>"
      ],
      "text/plain": [
       "   True Value  Prediction      Error\n",
       "0          44   36.833333   7.166667\n",
       "1          50   52.000000  -2.000000\n",
       "2          69   41.583333  27.416667\n",
       "3          65   64.166667   0.833333\n",
       "4          59   54.416667   4.583333"
      ]
     },
     "execution_count": 164,
     "metadata": {},
     "output_type": "execute_result"
    }
   ],
   "source": [
    "performance = pd.DataFrame({ 'True Value': y_test,\n",
    "                            'Prediction': y_test_pred,\n",
    "                            'Error': y_test - y_test_pred})\n",
    "performance.head()"
   ]
  },
  {
   "cell_type": "code",
   "execution_count": 165,
   "id": "a68d45b0",
   "metadata": {},
   "outputs": [],
   "source": [
    "df1 = pd.read_csv('Social_Network_Ads.csv')"
   ]
  },
  {
   "cell_type": "code",
   "execution_count": 166,
   "id": "1ae8bd75",
   "metadata": {},
   "outputs": [
    {
     "data": {
      "text/html": [
       "<div>\n",
       "<style scoped>\n",
       "    .dataframe tbody tr th:only-of-type {\n",
       "        vertical-align: middle;\n",
       "    }\n",
       "\n",
       "    .dataframe tbody tr th {\n",
       "        vertical-align: top;\n",
       "    }\n",
       "\n",
       "    .dataframe thead th {\n",
       "        text-align: right;\n",
       "    }\n",
       "</style>\n",
       "<table border=\"1\" class=\"dataframe\">\n",
       "  <thead>\n",
       "    <tr style=\"text-align: right;\">\n",
       "      <th></th>\n",
       "      <th>User ID</th>\n",
       "      <th>Gender</th>\n",
       "      <th>Age</th>\n",
       "      <th>EstimatedSalary</th>\n",
       "      <th>Purchased</th>\n",
       "    </tr>\n",
       "  </thead>\n",
       "  <tbody>\n",
       "    <tr>\n",
       "      <th>0</th>\n",
       "      <td>15624510</td>\n",
       "      <td>Male</td>\n",
       "      <td>19</td>\n",
       "      <td>19000</td>\n",
       "      <td>0</td>\n",
       "    </tr>\n",
       "    <tr>\n",
       "      <th>1</th>\n",
       "      <td>15810944</td>\n",
       "      <td>Male</td>\n",
       "      <td>35</td>\n",
       "      <td>20000</td>\n",
       "      <td>0</td>\n",
       "    </tr>\n",
       "    <tr>\n",
       "      <th>2</th>\n",
       "      <td>15668575</td>\n",
       "      <td>Female</td>\n",
       "      <td>26</td>\n",
       "      <td>43000</td>\n",
       "      <td>0</td>\n",
       "    </tr>\n",
       "    <tr>\n",
       "      <th>3</th>\n",
       "      <td>15603246</td>\n",
       "      <td>Female</td>\n",
       "      <td>27</td>\n",
       "      <td>57000</td>\n",
       "      <td>0</td>\n",
       "    </tr>\n",
       "    <tr>\n",
       "      <th>4</th>\n",
       "      <td>15804002</td>\n",
       "      <td>Male</td>\n",
       "      <td>19</td>\n",
       "      <td>76000</td>\n",
       "      <td>0</td>\n",
       "    </tr>\n",
       "  </tbody>\n",
       "</table>\n",
       "</div>"
      ],
      "text/plain": [
       "    User ID  Gender  Age  EstimatedSalary  Purchased\n",
       "0  15624510    Male   19            19000          0\n",
       "1  15810944    Male   35            20000          0\n",
       "2  15668575  Female   26            43000          0\n",
       "3  15603246  Female   27            57000          0\n",
       "4  15804002    Male   19            76000          0"
      ]
     },
     "execution_count": 166,
     "metadata": {},
     "output_type": "execute_result"
    }
   ],
   "source": [
    "df1.head()"
   ]
  },
  {
   "cell_type": "code",
   "execution_count": 167,
   "id": "cada04f3",
   "metadata": {},
   "outputs": [
    {
     "name": "stdout",
     "output_type": "stream",
     "text": [
      "Metadata             User ID         Age  EstimatedSalary   Purchased\n",
      "count  4.000000e+02  400.000000       400.000000  400.000000\n",
      "mean   1.569154e+07   37.655000     69742.500000    0.357500\n",
      "std    7.165832e+04   10.482877     34096.960282    0.479864\n",
      "min    1.556669e+07   18.000000     15000.000000    0.000000\n",
      "25%    1.562676e+07   29.750000     43000.000000    0.000000\n",
      "50%    1.569434e+07   37.000000     70000.000000    0.000000\n",
      "75%    1.575036e+07   46.000000     88000.000000    1.000000\n",
      "max    1.581524e+07   60.000000    150000.000000    1.000000\n",
      "Shape of dataset (400, 5)\n"
     ]
    }
   ],
   "source": [
    "print('Metadata',df1.describe())\n",
    "print('Shape of dataset',df1.shape)"
   ]
  },
  {
   "cell_type": "code",
   "execution_count": 168,
   "id": "ead53f17",
   "metadata": {},
   "outputs": [],
   "source": [
    "X = df.iloc[:,1:4].values\n",
    "Y = df.iloc[:,4].values"
   ]
  },
  {
   "cell_type": "code",
   "execution_count": 169,
   "id": "6c942947",
   "metadata": {},
   "outputs": [],
   "source": [
    "from sklearn.preprocessing import LabelEncoder\n",
    "le = LabelEncoder()\n",
    "X[:,0] = le.fit_transform(X[:,0])"
   ]
  },
  {
   "cell_type": "code",
   "execution_count": 170,
   "id": "41a6bbef",
   "metadata": {},
   "outputs": [],
   "source": [
    "from sklearn.model_selection import train_test_split\n",
    "X_train,X_test,Y_train,Y_test = train_test_split(X,Y,test_size = 0.2, random_state = 42)"
   ]
  },
  {
   "cell_type": "code",
   "execution_count": 171,
   "id": "332d0f6d",
   "metadata": {},
   "outputs": [],
   "source": [
    "from sklearn.preprocessing import MinMaxScaler\n",
    "mm = MinMaxScaler()\n",
    "X_train = mm.fit_transform(X_train)\n",
    "X_test = mm.fit_transform(X_test)"
   ]
  },
  {
   "cell_type": "markdown",
   "id": "2e16fdf3",
   "metadata": {},
   "source": [
    "# Decision Trees"
   ]
  },
  {
   "cell_type": "code",
   "execution_count": 172,
   "id": "b1fdd026",
   "metadata": {},
   "outputs": [],
   "source": [
    "from sklearn.tree import DecisionTreeClassifier"
   ]
  },
  {
   "cell_type": "code",
   "execution_count": 173,
   "id": "7f5209a4",
   "metadata": {},
   "outputs": [],
   "source": [
    "clf_gini = DecisionTreeClassifier(criterion = \"gini\",\n",
    "            random_state = 100,max_depth=3, min_samples_leaf=6)"
   ]
  },
  {
   "cell_type": "code",
   "execution_count": 174,
   "id": "ebf0f58f",
   "metadata": {},
   "outputs": [
    {
     "data": {
      "text/plain": [
       "DecisionTreeClassifier(max_depth=3, min_samples_leaf=6, random_state=100)"
      ]
     },
     "execution_count": 174,
     "metadata": {},
     "output_type": "execute_result"
    }
   ],
   "source": [
    "clf_gini.fit(X_train, Y_train)"
   ]
  },
  {
   "cell_type": "code",
   "execution_count": 101,
   "id": "78a40036",
   "metadata": {},
   "outputs": [],
   "source": [
    "y_test_predict_gini = clf_gini.predict(X_test)"
   ]
  },
  {
   "cell_type": "code",
   "execution_count": 184,
   "id": "8a03453e",
   "metadata": {},
   "outputs": [
    {
     "name": "stdout",
     "output_type": "stream",
     "text": [
      "Accuracy score on using Decision Trees:  0.925\n"
     ]
    },
    {
     "data": {
      "image/png": "[encoded data removed]",
      "text/plain": [
       "<Figure size 640x480 with 2 Axes>"
      ]
     },
     "metadata": {},
     "output_type": "display_data"
    }
   ],
   "source": [
    "accuracy = accuracy_score(Y_test, y_test_predict_gini)\n",
    "print(\"Accuracy score on using Decision Trees: \", accuracy)\n",
    "\n",
    "# Create confusion matrix\n",
    "cm1 = confusion_matrix(Y_test, y_test_predict_gini)\n",
    "cm_display = metrics.ConfusionMatrixDisplay(confusion_matrix = cm1, display_labels = [False, True])\n",
    "cm_display.plot(cmap='OrRd')\n",
    "plt.title('Confusion Matrix')\n",
    "plt.show()\n"
   ]
  },
  {
   "cell_type": "code",
   "execution_count": 103,
   "id": "78587b5f",
   "metadata": {},
   "outputs": [],
   "source": [
    "clf_entropy = DecisionTreeClassifier(\n",
    "            criterion = \"entropy\", random_state = 100,\n",
    "            max_depth = 4, min_samples_leaf = 5)"
   ]
  },
  {
   "cell_type": "code",
   "execution_count": 104,
   "id": "adf4f943",
   "metadata": {},
   "outputs": [
    {
     "data": {
      "text/plain": [
       "DecisionTreeClassifier(criterion='entropy', max_depth=4, min_samples_leaf=5,\n",
       "                       random_state=100)"
      ]
     },
     "execution_count": 104,
     "metadata": {},
     "output_type": "execute_result"
    }
   ],
   "source": [
    "clf_entropy.fit(X_train, Y_train)"
   ]
  },
  {
   "cell_type": "code",
   "execution_count": 105,
   "id": "764bbbf1",
   "metadata": {},
   "outputs": [],
   "source": [
    "y_test_predict_entropy = clf_entropy.predict(X_test)"
   ]
  },
  {
   "cell_type": "code",
   "execution_count": 185,
   "id": "6998390c",
   "metadata": {},
   "outputs": [
    {
     "name": "stdout",
     "output_type": "stream",
     "text": [
      "Accuracy score:  0.9375\n"
     ]
    },
    {
     "data": {
      "image/png": "[encoded data removed]",
      "text/plain": [
       "<Figure size 640x480 with 2 Axes>"
      ]
     },
     "metadata": {},
     "output_type": "display_data"
    }
   ],
   "source": [
    "print('Accuracy score: ',accuracy_score(Y_test,y_test_predict_entropy))\n",
    "cm2 = confusion_matrix(Y_test,y_test_predict_entropy)\n",
    "cm_display = metrics.ConfusionMatrixDisplay(confusion_matrix = cm2, display_labels = [False, True])\n",
    "cm_display.plot(cmap='Blues')\n",
    "plt.title('Confusion Matrix')\n",
    "plt.show()"
   ]
  },
  {
   "cell_type": "code",
   "execution_count": 202,
   "id": "c08958b6",
   "metadata": {},
   "outputs": [
    {
     "name": "stderr",
     "output_type": "stream",
     "text": [
      "/Users/aryankamani/opt/anaconda3/lib/python3.9/site-packages/sklearn/metrics/_ranking.py:751: FutureWarning: elementwise comparison failed; returning scalar instead, but in the future will perform elementwise comparison\n",
      "  y_true = y_true == pos_label\n"
     ]
    },
    {
     "ename": "TypeError",
     "evalue": "'bool' object is not subscriptable",
     "output_type": "error",
     "traceback": [
      "\u001b[0;31m---------------------------------------------------------------------------\u001b[0m",
      "\u001b[0;31mTypeError\u001b[0m                                 Traceback (most recent call last)",
      "\u001b[0;32m/var/folders/gc/3sqxc6dd4vx89q51lg2ztcwm0000gn/T/ipykernel_15110/4158394959.py\u001b[0m in \u001b[0;36m<module>\u001b[0;34m\u001b[0m\n\u001b[1;32m      2\u001b[0m \u001b[0;32mfrom\u001b[0m \u001b[0msklearn\u001b[0m\u001b[0;34m.\u001b[0m\u001b[0mmetrics\u001b[0m \u001b[0;32mimport\u001b[0m \u001b[0mroc_curve\u001b[0m\u001b[0;34m\u001b[0m\u001b[0;34m\u001b[0m\u001b[0m\n\u001b[1;32m      3\u001b[0m \u001b[0;34m\u001b[0m\u001b[0m\n\u001b[0;32m----> 4\u001b[0;31m \u001b[0mthresholds\u001b[0m \u001b[0;34m=\u001b[0m \u001b[0mroc_curve\u001b[0m\u001b[0;34m(\u001b[0m\u001b[0mY_test\u001b[0m\u001b[0;34m,\u001b[0m\u001b[0my_test_predict_entropy\u001b[0m\u001b[0;34m,\u001b[0m \u001b[0mpos_label\u001b[0m \u001b[0;34m=\u001b[0m \u001b[0;34m'>50K'\u001b[0m\u001b[0;34m)\u001b[0m\u001b[0;34m\u001b[0m\u001b[0;34m\u001b[0m\u001b[0m\n\u001b[0m\u001b[1;32m      5\u001b[0m \u001b[0;34m\u001b[0m\u001b[0m\n\u001b[1;32m      6\u001b[0m \u001b[0mplt\u001b[0m\u001b[0;34m.\u001b[0m\u001b[0mfigure\u001b[0m\u001b[0;34m(\u001b[0m\u001b[0mfigsize\u001b[0m\u001b[0;34m=\u001b[0m\u001b[0;34m(\u001b[0m\u001b[0;36m6\u001b[0m\u001b[0;34m,\u001b[0m\u001b[0;36m4\u001b[0m\u001b[0;34m)\u001b[0m\u001b[0;34m)\u001b[0m\u001b[0;34m\u001b[0m\u001b[0;34m\u001b[0m\u001b[0m\n",
      "\u001b[0;32m~/opt/anaconda3/lib/python3.9/site-packages/sklearn/metrics/_ranking.py\u001b[0m in \u001b[0;36mroc_curve\u001b[0;34m(y_true, y_score, pos_label, sample_weight, drop_intermediate)\u001b[0m\n\u001b[1;32m    960\u001b[0m \u001b[0;34m\u001b[0m\u001b[0m\n\u001b[1;32m    961\u001b[0m     \"\"\"\n\u001b[0;32m--> 962\u001b[0;31m     fps, tps, thresholds = _binary_clf_curve(\n\u001b[0m\u001b[1;32m    963\u001b[0m         \u001b[0my_true\u001b[0m\u001b[0;34m,\u001b[0m \u001b[0my_score\u001b[0m\u001b[0;34m,\u001b[0m \u001b[0mpos_label\u001b[0m\u001b[0;34m=\u001b[0m\u001b[0mpos_label\u001b[0m\u001b[0;34m,\u001b[0m \u001b[0msample_weight\u001b[0m\u001b[0;34m=\u001b[0m\u001b[0msample_weight\u001b[0m\u001b[0;34m\u001b[0m\u001b[0;34m\u001b[0m\u001b[0m\n\u001b[1;32m    964\u001b[0m     )\n",
      "\u001b[0;32m~/opt/anaconda3/lib/python3.9/site-packages/sklearn/metrics/_ranking.py\u001b[0m in \u001b[0;36m_binary_clf_curve\u001b[0;34m(y_true, y_score, pos_label, sample_weight)\u001b[0m\n\u001b[1;32m    754\u001b[0m     \u001b[0mdesc_score_indices\u001b[0m \u001b[0;34m=\u001b[0m \u001b[0mnp\u001b[0m\u001b[0;34m.\u001b[0m\u001b[0margsort\u001b[0m\u001b[0;34m(\u001b[0m\u001b[0my_score\u001b[0m\u001b[0;34m,\u001b[0m \u001b[0mkind\u001b[0m\u001b[0;34m=\u001b[0m\u001b[0;34m\"mergesort\"\u001b[0m\u001b[0;34m)\u001b[0m\u001b[0;34m[\u001b[0m\u001b[0;34m:\u001b[0m\u001b[0;34m:\u001b[0m\u001b[0;34m-\u001b[0m\u001b[0;36m1\u001b[0m\u001b[0;34m]\u001b[0m\u001b[0;34m\u001b[0m\u001b[0;34m\u001b[0m\u001b[0m\n\u001b[1;32m    755\u001b[0m     \u001b[0my_score\u001b[0m \u001b[0;34m=\u001b[0m \u001b[0my_score\u001b[0m\u001b[0;34m[\u001b[0m\u001b[0mdesc_score_indices\u001b[0m\u001b[0;34m]\u001b[0m\u001b[0;34m\u001b[0m\u001b[0;34m\u001b[0m\u001b[0m\n\u001b[0;32m--> 756\u001b[0;31m     \u001b[0my_true\u001b[0m \u001b[0;34m=\u001b[0m \u001b[0my_true\u001b[0m\u001b[0;34m[\u001b[0m\u001b[0mdesc_score_indices\u001b[0m\u001b[0;34m]\u001b[0m\u001b[0;34m\u001b[0m\u001b[0;34m\u001b[0m\u001b[0m\n\u001b[0m\u001b[1;32m    757\u001b[0m     \u001b[0;32mif\u001b[0m \u001b[0msample_weight\u001b[0m \u001b[0;32mis\u001b[0m \u001b[0;32mnot\u001b[0m \u001b[0;32mNone\u001b[0m\u001b[0;34m:\u001b[0m\u001b[0;34m\u001b[0m\u001b[0;34m\u001b[0m\u001b[0m\n\u001b[1;32m    758\u001b[0m         \u001b[0mweight\u001b[0m \u001b[0;34m=\u001b[0m \u001b[0msample_weight\u001b[0m\u001b[0;34m[\u001b[0m\u001b[0mdesc_score_indices\u001b[0m\u001b[0;34m]\u001b[0m\u001b[0;34m\u001b[0m\u001b[0;34m\u001b[0m\u001b[0m\n",
      "\u001b[0;31mTypeError\u001b[0m: 'bool' object is not subscriptable"
     ]
    }
   ],
   "source": [
    "# Plot ROC curve\n",
    "from sklearn.metrics import roc_curve\n",
    "\n",
    "thresholds = roc_curve(Y_test,y_test_predict_entropy, pos_label = '>50K')\n",
    "\n",
    "plt.figure(figsize=(6,4))\n",
    "\n",
    "plt.plot(fpr, tpr, linewidth=2)\n",
    "\n",
    "plt.plot([0,1], [0,1], 'k--' )\n",
    "\n",
    "plt.rcParams['font.size'] = 12\n",
    "\n",
    "plt.title('ROC curve for Gaussian Naive Bayes Classifier for Predicting Salaries')\n",
    "\n",
    "plt.xlabel('False Positive Rate (1 - Specificity)')\n",
    "\n",
    "plt.ylabel('True Positive Rate (Sensitivity)')\n",
    "\n",
    "plt.show()"
   ]
  },
  {
   "cell_type": "code",
   "execution_count": null,
   "id": "39507d19",
   "metadata": {},
   "outputs": [],
   "source": []
  }
 ],
 "metadata": {
  "kernelspec": {
   "display_name": "Python 3 (ipykernel)",
   "language": "python",
   "name": "python3"
  },
  "language_info": {
   "codemirror_mode": {
    "name": "ipython",
    "version": 3
   },
   "file_extension": ".py",
   "mimetype": "text/x-python",
   "name": "python",
   "nbconvert_exporter": "python",
   "pygments_lexer": "ipython3",
   "version": "3.9.13"
  }
 },
 "nbformat": 4,
 "nbformat_minor": 5
}
